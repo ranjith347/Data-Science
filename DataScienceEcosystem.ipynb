{
 "cells": [
  {
   "cell_type": "markdown",
   "id": "3bb3d028-b866-45c7-800d-661a353bdd0a",
   "metadata": {},
   "source": [
    "# Data Science Tools and Ecosystem"
   ]
  },
  {
   "cell_type": "markdown",
   "id": "6ffb82cf-ec68-46ba-8e5f-dd40533fe3ed",
   "metadata": {},
   "source": [
    "In this notebook, Data Science Tools and Ecosystem are summarized.\n",
    "we will explore the data science tools and ecosystem, including popular languages, libraries, and frameworks.\n",
    "We will also discuss the different stages of the data science workflow and how these tools are used in each stage."
   ]
  },
  {
   "cell_type": "markdown",
   "id": "71e9a7cb-8752-4e03-8d88-4ff6b5a2fd9a",
   "metadata": {},
   "source": [
    "**Objectives:**\n",
    "- Popular languages used in Data Science\n",
    "- Commonly used Libraries in data Science\n",
    "- Mathematical Examples using Python"
   ]
  },
  {
   "cell_type": "markdown",
   "id": "7b7136ff-0ef3-468b-ad8f-c957f03da533",
   "metadata": {},
   "source": [
    "Some of the popular languages that Data Scientists use are:\n",
    "1. Python\n",
    "2. Scala\n",
    "3. R\n",
    "4. SQL"
   ]
  },
  {
   "cell_type": "markdown",
   "id": "c92fb61c-dac0-4316-a9ef-4f84f4d0e5d5",
   "metadata": {},
   "source": [
    "Some of the commonly used libraries used by Data Scientists include:\n",
    "1. Pandas\n",
    "2. NumPy\n",
    "3. SciPy\n",
    "4. Scikit-learn\n",
    "5. Keras\n",
    "6. TensorFlow\n",
    "7. PyTorch\n",
    "8. Big DL\n",
    "9. Vegas\n",
    "10. ggplot2\n",
    "11. MatplotLib"
   ]
  },
  {
   "cell_type": "markdown",
   "id": "12d696ea-eae5-4928-b85c-d25358e1ee55",
   "metadata": {},
   "source": [
    "| Data Science Tools |\n",
    "|--------------------|\n",
    "| Jupyter Notebook   |\n",
    "| RStudio            |\n",
    "| Spyder             |\n",
    "| VS Code            |\n",
    "| Zeppelin          |\n",
    "| Anaconda           |\n"
   ]
  },
  {
   "cell_type": "markdown",
   "id": "1b50e9c0-031d-45eb-923f-e06e567171bb",
   "metadata": {},
   "source": [
    "### Below are a few examples of evaluating arithmetic expressions in Python."
   ]
  },
  {
   "cell_type": "code",
   "execution_count": 3,
   "id": "d435719a-69bb-467f-9164-5e0a5602c3eb",
   "metadata": {
    "tags": []
   },
   "outputs": [
    {
     "data": {
      "text/plain": [
       "17"
      ]
     },
     "execution_count": 3,
     "metadata": {},
     "output_type": "execute_result"
    }
   ],
   "source": [
    "# This a simple arithmetic expression to mutiply then add integers\n",
    "(3*4)+5"
   ]
  },
  {
   "cell_type": "code",
   "execution_count": 4,
   "id": "1dc2bc33-6334-48d8-a57f-32c21a1b79a2",
   "metadata": {
    "tags": []
   },
   "outputs": [
    {
     "name": "stdout",
     "output_type": "stream",
     "text": [
      "3.3333333333333335\n"
     ]
    }
   ],
   "source": [
    "# This will convert 200 minutes to hours by diving by 60\n",
    "minutes = 200\n",
    "hours = minutes/60\n",
    "print(hours)"
   ]
  },
  {
   "cell_type": "markdown",
   "id": "5359b4f9-3443-4816-af9b-befd68cfd639",
   "metadata": {},
   "source": [
    "## Author\n",
    "MUNNURU RANJITH"
   ]
  },
  {
   "cell_type": "code",
   "execution_count": null,
   "id": "8554d07d-b439-4fa2-a402-4a74bd08d9db",
   "metadata": {},
   "outputs": [],
   "source": []
  }
 ],
 "metadata": {
  "kernelspec": {
   "display_name": "Python",
   "language": "python",
   "name": "conda-env-python-py"
  },
  "language_info": {
   "codemirror_mode": {
    "name": "ipython",
    "version": 3
   },
   "file_extension": ".py",
   "mimetype": "text/x-python",
   "name": "python",
   "nbconvert_exporter": "python",
   "pygments_lexer": "ipython3",
   "version": "3.7.12"
  }
 },
 "nbformat": 4,
 "nbformat_minor": 5
}
